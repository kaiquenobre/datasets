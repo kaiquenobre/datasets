{
  "nbformat": 4,
  "nbformat_minor": 0,
  "metadata": {
    "colab": {
      "name": "datacamp-pandas-foundations.ipynb",
      "provenance": [],
      "authorship_tag": "ABX9TyMK7xwbgXU8KqvyF3GCGMSC",
      "include_colab_link": true
    },
    "kernelspec": {
      "name": "python3",
      "display_name": "Python 3"
    },
    "language_info": {
      "name": "python"
    }
  },
  "cells": [
    {
      "cell_type": "markdown",
      "metadata": {
        "id": "view-in-github",
        "colab_type": "text"
      },
      "source": [
        "<a href=\"https://colab.research.google.com/github/kaiquenobre/datasets/blob/main/datacamp_pandas_foundations.ipynb\" target=\"_parent\"><img src=\"https://colab.research.google.com/assets/colab-badge.svg\" alt=\"Open In Colab\"/></a>"
      ]
    },
    {
      "cell_type": "code",
      "metadata": {
        "id": "dZR9EvLNH-pz"
      },
      "source": [
        "import numpy as np\n",
        "import pandas as pd\n",
        "import matplotlib.pyplot as plt\n",
        "%matplotlib inline"
      ],
      "execution_count": null,
      "outputs": []
    },
    {
      "cell_type": "code",
      "metadata": {
        "id": "YYvWUmqZNK__"
      },
      "source": [
        "df = pd.read_csv('https://raw.githubusercontent.com/kaiquenobre/datasets/main/datacamp-pandas-foundations/world_ind_pop_data.csv')"
      ],
      "execution_count": null,
      "outputs": []
    },
    {
      "cell_type": "code",
      "metadata": {
        "colab": {
          "base_uri": "https://localhost:8080/",
          "height": 262
        },
        "id": "NESEZybKNRq6",
        "outputId": "4be45170-e318-4b9a-cb4e-04dd2de7714b"
      },
      "source": [
        "df.head()"
      ],
      "execution_count": null,
      "outputs": [
        {
          "output_type": "execute_result",
          "data": {
            "text/html": [
              "<div>\n",
              "<style scoped>\n",
              "    .dataframe tbody tr th:only-of-type {\n",
              "        vertical-align: middle;\n",
              "    }\n",
              "\n",
              "    .dataframe tbody tr th {\n",
              "        vertical-align: top;\n",
              "    }\n",
              "\n",
              "    .dataframe thead th {\n",
              "        text-align: right;\n",
              "    }\n",
              "</style>\n",
              "<table border=\"1\" class=\"dataframe\">\n",
              "  <thead>\n",
              "    <tr style=\"text-align: right;\">\n",
              "      <th></th>\n",
              "      <th>CountryName</th>\n",
              "      <th>CountryCode</th>\n",
              "      <th>Year</th>\n",
              "      <th>Total Population</th>\n",
              "      <th>Urban population (% of total)</th>\n",
              "    </tr>\n",
              "  </thead>\n",
              "  <tbody>\n",
              "    <tr>\n",
              "      <th>0</th>\n",
              "      <td>Arab World</td>\n",
              "      <td>ARB</td>\n",
              "      <td>1960</td>\n",
              "      <td>9.249590e+07</td>\n",
              "      <td>31.285384</td>\n",
              "    </tr>\n",
              "    <tr>\n",
              "      <th>1</th>\n",
              "      <td>Caribbean small states</td>\n",
              "      <td>CSS</td>\n",
              "      <td>1960</td>\n",
              "      <td>4.190810e+06</td>\n",
              "      <td>31.597490</td>\n",
              "    </tr>\n",
              "    <tr>\n",
              "      <th>2</th>\n",
              "      <td>Central Europe and the Baltics</td>\n",
              "      <td>CEB</td>\n",
              "      <td>1960</td>\n",
              "      <td>9.140158e+07</td>\n",
              "      <td>44.507921</td>\n",
              "    </tr>\n",
              "    <tr>\n",
              "      <th>3</th>\n",
              "      <td>East Asia &amp; Pacific (all income levels)</td>\n",
              "      <td>EAS</td>\n",
              "      <td>1960</td>\n",
              "      <td>1.042475e+09</td>\n",
              "      <td>22.471132</td>\n",
              "    </tr>\n",
              "    <tr>\n",
              "      <th>4</th>\n",
              "      <td>East Asia &amp; Pacific (developing only)</td>\n",
              "      <td>EAP</td>\n",
              "      <td>1960</td>\n",
              "      <td>8.964930e+08</td>\n",
              "      <td>16.917679</td>\n",
              "    </tr>\n",
              "  </tbody>\n",
              "</table>\n",
              "</div>"
            ],
            "text/plain": [
              "                               CountryName  ... Urban population (% of total)\n",
              "0                               Arab World  ...                     31.285384\n",
              "1                   Caribbean small states  ...                     31.597490\n",
              "2           Central Europe and the Baltics  ...                     44.507921\n",
              "3  East Asia & Pacific (all income levels)  ...                     22.471132\n",
              "4    East Asia & Pacific (developing only)  ...                     16.917679\n",
              "\n",
              "[5 rows x 5 columns]"
            ]
          },
          "metadata": {
            "tags": []
          },
          "execution_count": 4
        }
      ]
    },
    {
      "cell_type": "code",
      "metadata": {
        "colab": {
          "base_uri": "https://localhost:8080/"
        },
        "id": "Gn1js5YcNTd3",
        "outputId": "0ac6d4fd-b6cd-4ac6-bb8d-3dad83e652cc"
      },
      "source": [
        "df.columns"
      ],
      "execution_count": null,
      "outputs": [
        {
          "output_type": "execute_result",
          "data": {
            "text/plain": [
              "Index(['CountryName', 'CountryCode', 'Year', 'Total Population',\n",
              "       'Urban population (% of total)'],\n",
              "      dtype='object')"
            ]
          },
          "metadata": {
            "tags": []
          },
          "execution_count": 5
        }
      ]
    },
    {
      "cell_type": "code",
      "metadata": {
        "colab": {
          "base_uri": "https://localhost:8080/"
        },
        "id": "v1tRPwcgOoGh",
        "outputId": "c8669cfa-eb1e-45d1-9581-89715ea8fd2f"
      },
      "source": [
        "df.info()"
      ],
      "execution_count": null,
      "outputs": [
        {
          "output_type": "stream",
          "text": [
            "<class 'pandas.core.frame.DataFrame'>\n",
            "RangeIndex: 13374 entries, 0 to 13373\n",
            "Data columns (total 5 columns):\n",
            " #   Column                         Non-Null Count  Dtype  \n",
            "---  ------                         --------------  -----  \n",
            " 0   CountryName                    13374 non-null  object \n",
            " 1   CountryCode                    13374 non-null  object \n",
            " 2   Year                           13374 non-null  int64  \n",
            " 3   Total Population               13374 non-null  float64\n",
            " 4   Urban population (% of total)  13374 non-null  float64\n",
            "dtypes: float64(2), int64(1), object(2)\n",
            "memory usage: 522.5+ KB\n"
          ],
          "name": "stdout"
        }
      ]
    },
    {
      "cell_type": "code",
      "metadata": {
        "id": "IMkb8I5zOuZS"
      },
      "source": [
        ""
      ],
      "execution_count": null,
      "outputs": []
    },
    {
      "cell_type": "code",
      "metadata": {
        "id": "ZFWKr8_JOulF"
      },
      "source": [
        ""
      ],
      "execution_count": null,
      "outputs": []
    },
    {
      "cell_type": "code",
      "metadata": {
        "id": "8zskc1QNOunS"
      },
      "source": [
        ""
      ],
      "execution_count": null,
      "outputs": []
    },
    {
      "cell_type": "code",
      "metadata": {
        "id": "yjbYOFvFOupZ"
      },
      "source": [
        ""
      ],
      "execution_count": null,
      "outputs": []
    },
    {
      "cell_type": "code",
      "metadata": {
        "id": "yaUUJ-GcOurS"
      },
      "source": [
        ""
      ],
      "execution_count": null,
      "outputs": []
    },
    {
      "cell_type": "code",
      "metadata": {
        "id": "TVpW30NrOute"
      },
      "source": [
        ""
      ],
      "execution_count": null,
      "outputs": []
    }
  ]
}